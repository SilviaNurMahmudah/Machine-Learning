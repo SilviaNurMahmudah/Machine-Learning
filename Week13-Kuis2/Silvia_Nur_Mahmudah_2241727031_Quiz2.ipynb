{
  "nbformat": 4,
  "nbformat_minor": 0,
  "metadata": {
    "colab": {
      "provenance": [],
      "authorship_tag": "ABX9TyOf/kmq236ZRXRVzY7syfOg",
      "include_colab_link": true
    },
    "kernelspec": {
      "name": "python3",
      "display_name": "Python 3"
    },
    "language_info": {
      "name": "python"
    }
  },
  "cells": [
    {
      "cell_type": "markdown",
      "metadata": {
        "id": "view-in-github",
        "colab_type": "text"
      },
      "source": [
        "<a href=\"https://colab.research.google.com/github/SilviaNurMahmudah/Machine-Learning/blob/main/Week13-Kuis2/Silvia_Nur_Mahmudah_2241727031_Quiz2.ipynb\" target=\"_parent\"><img src=\"https://colab.research.google.com/assets/colab-badge.svg\" alt=\"Open In Colab\"/></a>"
      ]
    },
    {
      "cell_type": "markdown",
      "source": [
        "**NAMA : SILVIA NUR MAHMUDAH**\n",
        "\n",
        "**NIM : 224177031**\n",
        "\n",
        "**KELAS : TI-4J**"
      ],
      "metadata": {
        "id": "9p77OSokvsN9"
      }
    },
    {
      "cell_type": "markdown",
      "source": [
        "### Tentang data:\n",
        "\n",
        "Pada sebuah lembaga kemanusiaan berbasis teknologi informasi, dibentuk beberapa tim kemanusiaan yang bertugas untuk terjun ke masyarakat memberikan bantuan dalam bentuk aplikasi komputer atau layanan pelatihan IT.  Kegiatan tersebut dilaksanakan setiap tahun dengan ketentuan anggota organisasi tersebut dapat bergabung ke beberapa tim sebagai ketua atau anggota. Terdapat pula anggota yang sudah tidak aktif di organisasi tersebut (terhapus di database mereka —> label #N/A).  Organisasi tersebut juga melakukan rekrutmen volunteer, namun tidak semua tim menggunakan bantuan volunteer. Hasil kegiatan dari setiap tim dapat diwujudkan ke dalam sebuah pengakuan hak cipta atau publikasi karya ilmiah atau publikasi berita di media massa."
      ],
      "metadata": {
        "id": "OTLnuYombMSn"
      }
    },
    {
      "cell_type": "markdown",
      "source": [
        "### Ketentuan:\n",
        "\n",
        "1.   Pengerjaan secara individu alias setiap mahasiswa!\n",
        "2.   Terdapat data dengan nilai #N/A, pertimbangkan cara terbaik untuk mengatasi nilai tersebut.\n",
        "3.   Tidak boleh ada duplikasi pekerjaan antar mahasiswa (evaluasi pemahaman pengerjaan quiz 2 dilaksanakan pada Minggu ke-14)\n",
        "\n",
        "\n",
        "### Soal:\n",
        "\n",
        "1.   Buat 5 jenis visualisasi yang dapat dihasilkan dari data yang diberikan! (**5 poin**)\n",
        "2.   Lakukan pemilahan data training dan testing yang sesuai dan proporsional dari data tersebut! (**5 poin**)\n",
        "3.   Tentukan data validasi! (**5 poin**)\n",
        "4.   Terapkan dua jenis metode klasifikasi dan lakukan perbandingan akurasi  dengan wajib melibatkan variabel keterlibatan volunteer sampai variabel luaran-luaran yang dihasilkan! (**20 poin**)\n",
        "5.   Terapkan sebuah metode prediksi (berdasarkan tahun, misal: jumlah kegiatan pada tahun tertentu sebagai x dan jumlah  luaran sebagai y) serta hitung akurasinya dengan wajib melibatkan variabel keterlibatan volunteer sampai variabel luaran-luaran yang dihasilkan! (**20 poin**)\n",
        "6.   Buat Confusion Matrix dan ROC berdasarkan klasifikasi yang diterapkan pada nomor 4! (15 poin)\n",
        "7.   Lakukan hyperparameter tunning berdasarkan jawaban nomor 2, 3, dan 4 menggunakan metode Grid Search, Random Search, dan Exhausive Search! (**20 poin**)\n",
        "8.   Tambahkan visualisasi berdasarkan nomor 4 dan 5 (masing-masing nomor minimal satu visualisasi)! (**10 poin**)\n",
        "\n",
        "### Pengumpulan:\n",
        "\n",
        "1.   Cantumkan link Repo atau Google Collab (jangan lupa set Public)\n",
        "2.   Tidak perlu ada video presentasi"
      ],
      "metadata": {
        "id": "7Yn5WBGZbZ-y"
      }
    },
    {
      "cell_type": "markdown",
      "source": [
        "### Persiapan"
      ],
      "metadata": {
        "id": "YapQfCFFw7CG"
      }
    },
    {
      "cell_type": "code",
      "execution_count": null,
      "metadata": {
        "colab": {
          "base_uri": "https://localhost:8080/"
        },
        "id": "Zh-0XKAdvldC",
        "outputId": "d67e2da2-d305-42c1-f3a5-b16bbbc14d88"
      },
      "outputs": [
        {
          "output_type": "stream",
          "name": "stdout",
          "text": [
            "Mounted at /content/drive\n"
          ]
        }
      ],
      "source": [
        "import numpy as np\n",
        "import pandas as pd\n",
        "\n",
        "from google.colab import drive\n",
        "drive.mount('/content/drive')"
      ]
    },
    {
      "cell_type": "code",
      "source": [
        "data = pd.read_csv('/content/drive/MyDrive/ML/Week13-Kuis2/dataset_quiz.csv')\n",
        "data"
      ],
      "metadata": {
        "colab": {
          "base_uri": "https://localhost:8080/",
          "height": 488
        },
        "id": "aQu5oYN2w_D5",
        "outputId": "e5b5053b-abe7-40ae-b2b2-646a04bf7a5c"
      },
      "execution_count": null,
      "outputs": [
        {
          "output_type": "execute_result",
          "data": {
            "text/plain": [
              "    id_ketua  id_anggota1  id_anggota2  id_anggota3  id_anggota4  id_anggota5  \\\n",
              "0     7206.0       7214.0       6211.0       8602.0       7801.0          NaN   \n",
              "1     7214.0       7109.0       8402.0       7903.0       9202.0          NaN   \n",
              "2     5911.0       8201.0       8701.0       9101.0       9003.0          NaN   \n",
              "3     8402.0       7702.0       8602.0       8903.0       8903.0          NaN   \n",
              "4     8201.0       8305.0       5911.0       5903.0       8402.0          NaN   \n",
              "..       ...          ...          ...          ...          ...          ...   \n",
              "80    8803.0       8804.0       9102.0       8005.0       9303.0          NaN   \n",
              "81    6211.0       8901.0       9003.0       9303.0       9007.0          NaN   \n",
              "82    8601.0       8903.0       8703.0          NaN          NaN          NaN   \n",
              "83    8703.0       8601.0       9202.0       9102.0       6204.0          NaN   \n",
              "84    8102.0       7109.0       5903.0       7206.0       8903.0          NaN   \n",
              "\n",
              "   keterlibatan_vltr  jml_vltr_terlibat  tahun    skema luaran_hki  \\\n",
              "0              TIDAK                  0   2019  REGULER  TIDAK ADA   \n",
              "1              TIDAK                  0   2019  REGULER  TIDAK ADA   \n",
              "2              TIDAK                  0   2019  REGULER  TIDAK ADA   \n",
              "3              TIDAK                  0   2019  REGULER  TIDAK ADA   \n",
              "4              TIDAK                  0   2019  REGULER  TIDAK ADA   \n",
              "..               ...                ...    ...      ...        ...   \n",
              "80                YA                  3   2022  REGULER  TIDAK ADA   \n",
              "81                YA                  3   2022  REGULER  TIDAK ADA   \n",
              "82                YA                  3   2022  REGULER  TIDAK ADA   \n",
              "83                YA                  3   2022  REGULER  TIDAK ADA   \n",
              "84             TIDAK                  0   2022  REGULER  TIDAK ADA   \n",
              "\n",
              "   jenis_luaran_hki potensi_hki luaran_lain jenis_luaran_lain  \\\n",
              "0         TIDAK ADA       TIDAK   TIDAK ADA         TIDAK ADA   \n",
              "1         TIDAK ADA       TIDAK   TIDAK ADA         TIDAK ADA   \n",
              "2         TIDAK ADA       TIDAK   TIDAK ADA         TIDAK ADA   \n",
              "3         TIDAK ADA       TIDAK   TIDAK ADA         TIDAK ADA   \n",
              "4         TIDAK ADA       TIDAK   TIDAK ADA         TIDAK ADA   \n",
              "..              ...         ...         ...               ...   \n",
              "80        TIDAK ADA       TIDAK   TIDAK ADA         TIDAK ADA   \n",
              "81        TIDAK ADA       TIDAK   TIDAK ADA         TIDAK ADA   \n",
              "82        TIDAK ADA       TIDAK   TIDAK ADA         TIDAK ADA   \n",
              "83        TIDAK ADA       TIDAK   TIDAK ADA         TIDAK ADA   \n",
              "84        TIDAK ADA       TIDAK   TIDAK ADA         TIDAK ADA   \n",
              "\n",
              "   status_luaran_lain  \n",
              "0           TIDAK ADA  \n",
              "1           TIDAK ADA  \n",
              "2           TIDAK ADA  \n",
              "3           TIDAK ADA  \n",
              "4           TIDAK ADA  \n",
              "..                ...  \n",
              "80          TIDAK ADA  \n",
              "81          TIDAK ADA  \n",
              "82          TIDAK ADA  \n",
              "83          TIDAK ADA  \n",
              "84          TIDAK ADA  \n",
              "\n",
              "[85 rows x 16 columns]"
            ],
            "text/html": [
              "\n",
              "  <div id=\"df-1cfefbb0-15d4-4749-9f68-5197b9810e9f\">\n",
              "    <div class=\"colab-df-container\">\n",
              "      <div>\n",
              "<style scoped>\n",
              "    .dataframe tbody tr th:only-of-type {\n",
              "        vertical-align: middle;\n",
              "    }\n",
              "\n",
              "    .dataframe tbody tr th {\n",
              "        vertical-align: top;\n",
              "    }\n",
              "\n",
              "    .dataframe thead th {\n",
              "        text-align: right;\n",
              "    }\n",
              "</style>\n",
              "<table border=\"1\" class=\"dataframe\">\n",
              "  <thead>\n",
              "    <tr style=\"text-align: right;\">\n",
              "      <th></th>\n",
              "      <th>id_ketua</th>\n",
              "      <th>id_anggota1</th>\n",
              "      <th>id_anggota2</th>\n",
              "      <th>id_anggota3</th>\n",
              "      <th>id_anggota4</th>\n",
              "      <th>id_anggota5</th>\n",
              "      <th>keterlibatan_vltr</th>\n",
              "      <th>jml_vltr_terlibat</th>\n",
              "      <th>tahun</th>\n",
              "      <th>skema</th>\n",
              "      <th>luaran_hki</th>\n",
              "      <th>jenis_luaran_hki</th>\n",
              "      <th>potensi_hki</th>\n",
              "      <th>luaran_lain</th>\n",
              "      <th>jenis_luaran_lain</th>\n",
              "      <th>status_luaran_lain</th>\n",
              "    </tr>\n",
              "  </thead>\n",
              "  <tbody>\n",
              "    <tr>\n",
              "      <th>0</th>\n",
              "      <td>7206.0</td>\n",
              "      <td>7214.0</td>\n",
              "      <td>6211.0</td>\n",
              "      <td>8602.0</td>\n",
              "      <td>7801.0</td>\n",
              "      <td>NaN</td>\n",
              "      <td>TIDAK</td>\n",
              "      <td>0</td>\n",
              "      <td>2019</td>\n",
              "      <td>REGULER</td>\n",
              "      <td>TIDAK ADA</td>\n",
              "      <td>TIDAK ADA</td>\n",
              "      <td>TIDAK</td>\n",
              "      <td>TIDAK ADA</td>\n",
              "      <td>TIDAK ADA</td>\n",
              "      <td>TIDAK ADA</td>\n",
              "    </tr>\n",
              "    <tr>\n",
              "      <th>1</th>\n",
              "      <td>7214.0</td>\n",
              "      <td>7109.0</td>\n",
              "      <td>8402.0</td>\n",
              "      <td>7903.0</td>\n",
              "      <td>9202.0</td>\n",
              "      <td>NaN</td>\n",
              "      <td>TIDAK</td>\n",
              "      <td>0</td>\n",
              "      <td>2019</td>\n",
              "      <td>REGULER</td>\n",
              "      <td>TIDAK ADA</td>\n",
              "      <td>TIDAK ADA</td>\n",
              "      <td>TIDAK</td>\n",
              "      <td>TIDAK ADA</td>\n",
              "      <td>TIDAK ADA</td>\n",
              "      <td>TIDAK ADA</td>\n",
              "    </tr>\n",
              "    <tr>\n",
              "      <th>2</th>\n",
              "      <td>5911.0</td>\n",
              "      <td>8201.0</td>\n",
              "      <td>8701.0</td>\n",
              "      <td>9101.0</td>\n",
              "      <td>9003.0</td>\n",
              "      <td>NaN</td>\n",
              "      <td>TIDAK</td>\n",
              "      <td>0</td>\n",
              "      <td>2019</td>\n",
              "      <td>REGULER</td>\n",
              "      <td>TIDAK ADA</td>\n",
              "      <td>TIDAK ADA</td>\n",
              "      <td>TIDAK</td>\n",
              "      <td>TIDAK ADA</td>\n",
              "      <td>TIDAK ADA</td>\n",
              "      <td>TIDAK ADA</td>\n",
              "    </tr>\n",
              "    <tr>\n",
              "      <th>3</th>\n",
              "      <td>8402.0</td>\n",
              "      <td>7702.0</td>\n",
              "      <td>8602.0</td>\n",
              "      <td>8903.0</td>\n",
              "      <td>8903.0</td>\n",
              "      <td>NaN</td>\n",
              "      <td>TIDAK</td>\n",
              "      <td>0</td>\n",
              "      <td>2019</td>\n",
              "      <td>REGULER</td>\n",
              "      <td>TIDAK ADA</td>\n",
              "      <td>TIDAK ADA</td>\n",
              "      <td>TIDAK</td>\n",
              "      <td>TIDAK ADA</td>\n",
              "      <td>TIDAK ADA</td>\n",
              "      <td>TIDAK ADA</td>\n",
              "    </tr>\n",
              "    <tr>\n",
              "      <th>4</th>\n",
              "      <td>8201.0</td>\n",
              "      <td>8305.0</td>\n",
              "      <td>5911.0</td>\n",
              "      <td>5903.0</td>\n",
              "      <td>8402.0</td>\n",
              "      <td>NaN</td>\n",
              "      <td>TIDAK</td>\n",
              "      <td>0</td>\n",
              "      <td>2019</td>\n",
              "      <td>REGULER</td>\n",
              "      <td>TIDAK ADA</td>\n",
              "      <td>TIDAK ADA</td>\n",
              "      <td>TIDAK</td>\n",
              "      <td>TIDAK ADA</td>\n",
              "      <td>TIDAK ADA</td>\n",
              "      <td>TIDAK ADA</td>\n",
              "    </tr>\n",
              "    <tr>\n",
              "      <th>...</th>\n",
              "      <td>...</td>\n",
              "      <td>...</td>\n",
              "      <td>...</td>\n",
              "      <td>...</td>\n",
              "      <td>...</td>\n",
              "      <td>...</td>\n",
              "      <td>...</td>\n",
              "      <td>...</td>\n",
              "      <td>...</td>\n",
              "      <td>...</td>\n",
              "      <td>...</td>\n",
              "      <td>...</td>\n",
              "      <td>...</td>\n",
              "      <td>...</td>\n",
              "      <td>...</td>\n",
              "      <td>...</td>\n",
              "    </tr>\n",
              "    <tr>\n",
              "      <th>80</th>\n",
              "      <td>8803.0</td>\n",
              "      <td>8804.0</td>\n",
              "      <td>9102.0</td>\n",
              "      <td>8005.0</td>\n",
              "      <td>9303.0</td>\n",
              "      <td>NaN</td>\n",
              "      <td>YA</td>\n",
              "      <td>3</td>\n",
              "      <td>2022</td>\n",
              "      <td>REGULER</td>\n",
              "      <td>TIDAK ADA</td>\n",
              "      <td>TIDAK ADA</td>\n",
              "      <td>TIDAK</td>\n",
              "      <td>TIDAK ADA</td>\n",
              "      <td>TIDAK ADA</td>\n",
              "      <td>TIDAK ADA</td>\n",
              "    </tr>\n",
              "    <tr>\n",
              "      <th>81</th>\n",
              "      <td>6211.0</td>\n",
              "      <td>8901.0</td>\n",
              "      <td>9003.0</td>\n",
              "      <td>9303.0</td>\n",
              "      <td>9007.0</td>\n",
              "      <td>NaN</td>\n",
              "      <td>YA</td>\n",
              "      <td>3</td>\n",
              "      <td>2022</td>\n",
              "      <td>REGULER</td>\n",
              "      <td>TIDAK ADA</td>\n",
              "      <td>TIDAK ADA</td>\n",
              "      <td>TIDAK</td>\n",
              "      <td>TIDAK ADA</td>\n",
              "      <td>TIDAK ADA</td>\n",
              "      <td>TIDAK ADA</td>\n",
              "    </tr>\n",
              "    <tr>\n",
              "      <th>82</th>\n",
              "      <td>8601.0</td>\n",
              "      <td>8903.0</td>\n",
              "      <td>8703.0</td>\n",
              "      <td>NaN</td>\n",
              "      <td>NaN</td>\n",
              "      <td>NaN</td>\n",
              "      <td>YA</td>\n",
              "      <td>3</td>\n",
              "      <td>2022</td>\n",
              "      <td>REGULER</td>\n",
              "      <td>TIDAK ADA</td>\n",
              "      <td>TIDAK ADA</td>\n",
              "      <td>TIDAK</td>\n",
              "      <td>TIDAK ADA</td>\n",
              "      <td>TIDAK ADA</td>\n",
              "      <td>TIDAK ADA</td>\n",
              "    </tr>\n",
              "    <tr>\n",
              "      <th>83</th>\n",
              "      <td>8703.0</td>\n",
              "      <td>8601.0</td>\n",
              "      <td>9202.0</td>\n",
              "      <td>9102.0</td>\n",
              "      <td>6204.0</td>\n",
              "      <td>NaN</td>\n",
              "      <td>YA</td>\n",
              "      <td>3</td>\n",
              "      <td>2022</td>\n",
              "      <td>REGULER</td>\n",
              "      <td>TIDAK ADA</td>\n",
              "      <td>TIDAK ADA</td>\n",
              "      <td>TIDAK</td>\n",
              "      <td>TIDAK ADA</td>\n",
              "      <td>TIDAK ADA</td>\n",
              "      <td>TIDAK ADA</td>\n",
              "    </tr>\n",
              "    <tr>\n",
              "      <th>84</th>\n",
              "      <td>8102.0</td>\n",
              "      <td>7109.0</td>\n",
              "      <td>5903.0</td>\n",
              "      <td>7206.0</td>\n",
              "      <td>8903.0</td>\n",
              "      <td>NaN</td>\n",
              "      <td>TIDAK</td>\n",
              "      <td>0</td>\n",
              "      <td>2022</td>\n",
              "      <td>REGULER</td>\n",
              "      <td>TIDAK ADA</td>\n",
              "      <td>TIDAK ADA</td>\n",
              "      <td>TIDAK</td>\n",
              "      <td>TIDAK ADA</td>\n",
              "      <td>TIDAK ADA</td>\n",
              "      <td>TIDAK ADA</td>\n",
              "    </tr>\n",
              "  </tbody>\n",
              "</table>\n",
              "<p>85 rows × 16 columns</p>\n",
              "</div>\n",
              "      <button class=\"colab-df-convert\" onclick=\"convertToInteractive('df-1cfefbb0-15d4-4749-9f68-5197b9810e9f')\"\n",
              "              title=\"Convert this dataframe to an interactive table.\"\n",
              "              style=\"display:none;\">\n",
              "        \n",
              "  <svg xmlns=\"http://www.w3.org/2000/svg\" height=\"24px\"viewBox=\"0 0 24 24\"\n",
              "       width=\"24px\">\n",
              "    <path d=\"M0 0h24v24H0V0z\" fill=\"none\"/>\n",
              "    <path d=\"M18.56 5.44l.94 2.06.94-2.06 2.06-.94-2.06-.94-.94-2.06-.94 2.06-2.06.94zm-11 1L8.5 8.5l.94-2.06 2.06-.94-2.06-.94L8.5 2.5l-.94 2.06-2.06.94zm10 10l.94 2.06.94-2.06 2.06-.94-2.06-.94-.94-2.06-.94 2.06-2.06.94z\"/><path d=\"M17.41 7.96l-1.37-1.37c-.4-.4-.92-.59-1.43-.59-.52 0-1.04.2-1.43.59L10.3 9.45l-7.72 7.72c-.78.78-.78 2.05 0 2.83L4 21.41c.39.39.9.59 1.41.59.51 0 1.02-.2 1.41-.59l7.78-7.78 2.81-2.81c.8-.78.8-2.07 0-2.86zM5.41 20L4 18.59l7.72-7.72 1.47 1.35L5.41 20z\"/>\n",
              "  </svg>\n",
              "      </button>\n",
              "      \n",
              "  <style>\n",
              "    .colab-df-container {\n",
              "      display:flex;\n",
              "      flex-wrap:wrap;\n",
              "      gap: 12px;\n",
              "    }\n",
              "\n",
              "    .colab-df-convert {\n",
              "      background-color: #E8F0FE;\n",
              "      border: none;\n",
              "      border-radius: 50%;\n",
              "      cursor: pointer;\n",
              "      display: none;\n",
              "      fill: #1967D2;\n",
              "      height: 32px;\n",
              "      padding: 0 0 0 0;\n",
              "      width: 32px;\n",
              "    }\n",
              "\n",
              "    .colab-df-convert:hover {\n",
              "      background-color: #E2EBFA;\n",
              "      box-shadow: 0px 1px 2px rgba(60, 64, 67, 0.3), 0px 1px 3px 1px rgba(60, 64, 67, 0.15);\n",
              "      fill: #174EA6;\n",
              "    }\n",
              "\n",
              "    [theme=dark] .colab-df-convert {\n",
              "      background-color: #3B4455;\n",
              "      fill: #D2E3FC;\n",
              "    }\n",
              "\n",
              "    [theme=dark] .colab-df-convert:hover {\n",
              "      background-color: #434B5C;\n",
              "      box-shadow: 0px 1px 3px 1px rgba(0, 0, 0, 0.15);\n",
              "      filter: drop-shadow(0px 1px 2px rgba(0, 0, 0, 0.3));\n",
              "      fill: #FFFFFF;\n",
              "    }\n",
              "  </style>\n",
              "\n",
              "      <script>\n",
              "        const buttonEl =\n",
              "          document.querySelector('#df-1cfefbb0-15d4-4749-9f68-5197b9810e9f button.colab-df-convert');\n",
              "        buttonEl.style.display =\n",
              "          google.colab.kernel.accessAllowed ? 'block' : 'none';\n",
              "\n",
              "        async function convertToInteractive(key) {\n",
              "          const element = document.querySelector('#df-1cfefbb0-15d4-4749-9f68-5197b9810e9f');\n",
              "          const dataTable =\n",
              "            await google.colab.kernel.invokeFunction('convertToInteractive',\n",
              "                                                     [key], {});\n",
              "          if (!dataTable) return;\n",
              "\n",
              "          const docLinkHtml = 'Like what you see? Visit the ' +\n",
              "            '<a target=\"_blank\" href=https://colab.research.google.com/notebooks/data_table.ipynb>data table notebook</a>'\n",
              "            + ' to learn more about interactive tables.';\n",
              "          element.innerHTML = '';\n",
              "          dataTable['output_type'] = 'display_data';\n",
              "          await google.colab.output.renderOutput(dataTable, element);\n",
              "          const docLink = document.createElement('div');\n",
              "          docLink.innerHTML = docLinkHtml;\n",
              "          element.appendChild(docLink);\n",
              "        }\n",
              "      </script>\n",
              "    </div>\n",
              "  </div>\n",
              "  "
            ]
          },
          "metadata": {},
          "execution_count": 2
        }
      ]
    },
    {
      "cell_type": "markdown",
      "source": [
        "#### Data Cleaning"
      ],
      "metadata": {
        "id": "4aPh7Legol-x"
      }
    },
    {
      "cell_type": "code",
      "source": [
        "## cek missing value\n",
        "data.isnull().sum()"
      ],
      "metadata": {
        "id": "ed9zbyDexdB9",
        "colab": {
          "base_uri": "https://localhost:8080/"
        },
        "outputId": "247265ca-421d-4fc5-da7a-24f0cd16e12b"
      },
      "execution_count": null,
      "outputs": [
        {
          "output_type": "execute_result",
          "data": {
            "text/plain": [
              "id_ketua               3\n",
              "id_anggota1            5\n",
              "id_anggota2            4\n",
              "id_anggota3            3\n",
              "id_anggota4           13\n",
              "id_anggota5           84\n",
              "keterlibatan_vltr      0\n",
              "jml_vltr_terlibat      0\n",
              "tahun                  0\n",
              "skema                  0\n",
              "luaran_hki             0\n",
              "jenis_luaran_hki       0\n",
              "potensi_hki            0\n",
              "luaran_lain            0\n",
              "jenis_luaran_lain      0\n",
              "status_luaran_lain     0\n",
              "dtype: int64"
            ]
          },
          "metadata": {},
          "execution_count": 3
        }
      ]
    },
    {
      "cell_type": "code",
      "source": [
        "# mengisi missing value dengan modus dari masing\" data tersebut\n",
        "from scipy.stats import mode\n",
        "\n",
        "data['id_ketua'] = data['id_ketua'].fillna(data['id_ketua'].mode()[0])\n",
        "data['id_anggota1'] = data['id_anggota1'].fillna(data['id_anggota1'].mode()[0])\n",
        "data['id_anggota2'] = data['id_anggota2'].fillna(data['id_anggota2'].mode()[0])\n",
        "data['id_anggota3'] = data['id_anggota3'].fillna(data['id_anggota3'].mode()[0])\n",
        "data['id_anggota4'] = data['id_anggota4'].fillna(data['id_anggota4'].mode()[0])\n",
        "data['id_anggota5'] = data['id_anggota5'].fillna(data['id_anggota5'].mode()[0])"
      ],
      "metadata": {
        "id": "wsnMaCOXopZH"
      },
      "execution_count": null,
      "outputs": []
    },
    {
      "cell_type": "code",
      "source": [
        "data"
      ],
      "metadata": {
        "colab": {
          "base_uri": "https://localhost:8080/",
          "height": 488
        },
        "id": "6T_-kSSRpZyh",
        "outputId": "ce40204a-13ff-426a-b74a-8a5778baffe8"
      },
      "execution_count": null,
      "outputs": [
        {
          "output_type": "execute_result",
          "data": {
            "text/plain": [
              "    id_ketua  id_anggota1  id_anggota2  id_anggota3  id_anggota4  id_anggota5  \\\n",
              "0     7206.0       7214.0       6211.0       8602.0       7801.0       8812.0   \n",
              "1     7214.0       7109.0       8402.0       7903.0       9202.0       8812.0   \n",
              "2     5911.0       8201.0       8701.0       9101.0       9003.0       8812.0   \n",
              "3     8402.0       7702.0       8602.0       8903.0       8903.0       8812.0   \n",
              "4     8201.0       8305.0       5911.0       5903.0       8402.0       8812.0   \n",
              "..       ...          ...          ...          ...          ...          ...   \n",
              "80    8803.0       8804.0       9102.0       8005.0       9303.0       8812.0   \n",
              "81    6211.0       8901.0       9003.0       9303.0       9007.0       8812.0   \n",
              "82    8601.0       8903.0       8703.0       8602.0       8901.0       8812.0   \n",
              "83    8703.0       8601.0       9202.0       9102.0       6204.0       8812.0   \n",
              "84    8102.0       7109.0       5903.0       7206.0       8903.0       8812.0   \n",
              "\n",
              "   keterlibatan_vltr  jml_vltr_terlibat  tahun    skema luaran_hki  \\\n",
              "0              TIDAK                  0   2019  REGULER  TIDAK ADA   \n",
              "1              TIDAK                  0   2019  REGULER  TIDAK ADA   \n",
              "2              TIDAK                  0   2019  REGULER  TIDAK ADA   \n",
              "3              TIDAK                  0   2019  REGULER  TIDAK ADA   \n",
              "4              TIDAK                  0   2019  REGULER  TIDAK ADA   \n",
              "..               ...                ...    ...      ...        ...   \n",
              "80                YA                  3   2022  REGULER  TIDAK ADA   \n",
              "81                YA                  3   2022  REGULER  TIDAK ADA   \n",
              "82                YA                  3   2022  REGULER  TIDAK ADA   \n",
              "83                YA                  3   2022  REGULER  TIDAK ADA   \n",
              "84             TIDAK                  0   2022  REGULER  TIDAK ADA   \n",
              "\n",
              "   jenis_luaran_hki potensi_hki luaran_lain jenis_luaran_lain  \\\n",
              "0         TIDAK ADA       TIDAK   TIDAK ADA         TIDAK ADA   \n",
              "1         TIDAK ADA       TIDAK   TIDAK ADA         TIDAK ADA   \n",
              "2         TIDAK ADA       TIDAK   TIDAK ADA         TIDAK ADA   \n",
              "3         TIDAK ADA       TIDAK   TIDAK ADA         TIDAK ADA   \n",
              "4         TIDAK ADA       TIDAK   TIDAK ADA         TIDAK ADA   \n",
              "..              ...         ...         ...               ...   \n",
              "80        TIDAK ADA       TIDAK   TIDAK ADA         TIDAK ADA   \n",
              "81        TIDAK ADA       TIDAK   TIDAK ADA         TIDAK ADA   \n",
              "82        TIDAK ADA       TIDAK   TIDAK ADA         TIDAK ADA   \n",
              "83        TIDAK ADA       TIDAK   TIDAK ADA         TIDAK ADA   \n",
              "84        TIDAK ADA       TIDAK   TIDAK ADA         TIDAK ADA   \n",
              "\n",
              "   status_luaran_lain  \n",
              "0           TIDAK ADA  \n",
              "1           TIDAK ADA  \n",
              "2           TIDAK ADA  \n",
              "3           TIDAK ADA  \n",
              "4           TIDAK ADA  \n",
              "..                ...  \n",
              "80          TIDAK ADA  \n",
              "81          TIDAK ADA  \n",
              "82          TIDAK ADA  \n",
              "83          TIDAK ADA  \n",
              "84          TIDAK ADA  \n",
              "\n",
              "[85 rows x 16 columns]"
            ],
            "text/html": [
              "\n",
              "  <div id=\"df-6a40f190-2f03-49d2-9392-977652b2a5b8\">\n",
              "    <div class=\"colab-df-container\">\n",
              "      <div>\n",
              "<style scoped>\n",
              "    .dataframe tbody tr th:only-of-type {\n",
              "        vertical-align: middle;\n",
              "    }\n",
              "\n",
              "    .dataframe tbody tr th {\n",
              "        vertical-align: top;\n",
              "    }\n",
              "\n",
              "    .dataframe thead th {\n",
              "        text-align: right;\n",
              "    }\n",
              "</style>\n",
              "<table border=\"1\" class=\"dataframe\">\n",
              "  <thead>\n",
              "    <tr style=\"text-align: right;\">\n",
              "      <th></th>\n",
              "      <th>id_ketua</th>\n",
              "      <th>id_anggota1</th>\n",
              "      <th>id_anggota2</th>\n",
              "      <th>id_anggota3</th>\n",
              "      <th>id_anggota4</th>\n",
              "      <th>id_anggota5</th>\n",
              "      <th>keterlibatan_vltr</th>\n",
              "      <th>jml_vltr_terlibat</th>\n",
              "      <th>tahun</th>\n",
              "      <th>skema</th>\n",
              "      <th>luaran_hki</th>\n",
              "      <th>jenis_luaran_hki</th>\n",
              "      <th>potensi_hki</th>\n",
              "      <th>luaran_lain</th>\n",
              "      <th>jenis_luaran_lain</th>\n",
              "      <th>status_luaran_lain</th>\n",
              "    </tr>\n",
              "  </thead>\n",
              "  <tbody>\n",
              "    <tr>\n",
              "      <th>0</th>\n",
              "      <td>7206.0</td>\n",
              "      <td>7214.0</td>\n",
              "      <td>6211.0</td>\n",
              "      <td>8602.0</td>\n",
              "      <td>7801.0</td>\n",
              "      <td>8812.0</td>\n",
              "      <td>TIDAK</td>\n",
              "      <td>0</td>\n",
              "      <td>2019</td>\n",
              "      <td>REGULER</td>\n",
              "      <td>TIDAK ADA</td>\n",
              "      <td>TIDAK ADA</td>\n",
              "      <td>TIDAK</td>\n",
              "      <td>TIDAK ADA</td>\n",
              "      <td>TIDAK ADA</td>\n",
              "      <td>TIDAK ADA</td>\n",
              "    </tr>\n",
              "    <tr>\n",
              "      <th>1</th>\n",
              "      <td>7214.0</td>\n",
              "      <td>7109.0</td>\n",
              "      <td>8402.0</td>\n",
              "      <td>7903.0</td>\n",
              "      <td>9202.0</td>\n",
              "      <td>8812.0</td>\n",
              "      <td>TIDAK</td>\n",
              "      <td>0</td>\n",
              "      <td>2019</td>\n",
              "      <td>REGULER</td>\n",
              "      <td>TIDAK ADA</td>\n",
              "      <td>TIDAK ADA</td>\n",
              "      <td>TIDAK</td>\n",
              "      <td>TIDAK ADA</td>\n",
              "      <td>TIDAK ADA</td>\n",
              "      <td>TIDAK ADA</td>\n",
              "    </tr>\n",
              "    <tr>\n",
              "      <th>2</th>\n",
              "      <td>5911.0</td>\n",
              "      <td>8201.0</td>\n",
              "      <td>8701.0</td>\n",
              "      <td>9101.0</td>\n",
              "      <td>9003.0</td>\n",
              "      <td>8812.0</td>\n",
              "      <td>TIDAK</td>\n",
              "      <td>0</td>\n",
              "      <td>2019</td>\n",
              "      <td>REGULER</td>\n",
              "      <td>TIDAK ADA</td>\n",
              "      <td>TIDAK ADA</td>\n",
              "      <td>TIDAK</td>\n",
              "      <td>TIDAK ADA</td>\n",
              "      <td>TIDAK ADA</td>\n",
              "      <td>TIDAK ADA</td>\n",
              "    </tr>\n",
              "    <tr>\n",
              "      <th>3</th>\n",
              "      <td>8402.0</td>\n",
              "      <td>7702.0</td>\n",
              "      <td>8602.0</td>\n",
              "      <td>8903.0</td>\n",
              "      <td>8903.0</td>\n",
              "      <td>8812.0</td>\n",
              "      <td>TIDAK</td>\n",
              "      <td>0</td>\n",
              "      <td>2019</td>\n",
              "      <td>REGULER</td>\n",
              "      <td>TIDAK ADA</td>\n",
              "      <td>TIDAK ADA</td>\n",
              "      <td>TIDAK</td>\n",
              "      <td>TIDAK ADA</td>\n",
              "      <td>TIDAK ADA</td>\n",
              "      <td>TIDAK ADA</td>\n",
              "    </tr>\n",
              "    <tr>\n",
              "      <th>4</th>\n",
              "      <td>8201.0</td>\n",
              "      <td>8305.0</td>\n",
              "      <td>5911.0</td>\n",
              "      <td>5903.0</td>\n",
              "      <td>8402.0</td>\n",
              "      <td>8812.0</td>\n",
              "      <td>TIDAK</td>\n",
              "      <td>0</td>\n",
              "      <td>2019</td>\n",
              "      <td>REGULER</td>\n",
              "      <td>TIDAK ADA</td>\n",
              "      <td>TIDAK ADA</td>\n",
              "      <td>TIDAK</td>\n",
              "      <td>TIDAK ADA</td>\n",
              "      <td>TIDAK ADA</td>\n",
              "      <td>TIDAK ADA</td>\n",
              "    </tr>\n",
              "    <tr>\n",
              "      <th>...</th>\n",
              "      <td>...</td>\n",
              "      <td>...</td>\n",
              "      <td>...</td>\n",
              "      <td>...</td>\n",
              "      <td>...</td>\n",
              "      <td>...</td>\n",
              "      <td>...</td>\n",
              "      <td>...</td>\n",
              "      <td>...</td>\n",
              "      <td>...</td>\n",
              "      <td>...</td>\n",
              "      <td>...</td>\n",
              "      <td>...</td>\n",
              "      <td>...</td>\n",
              "      <td>...</td>\n",
              "      <td>...</td>\n",
              "    </tr>\n",
              "    <tr>\n",
              "      <th>80</th>\n",
              "      <td>8803.0</td>\n",
              "      <td>8804.0</td>\n",
              "      <td>9102.0</td>\n",
              "      <td>8005.0</td>\n",
              "      <td>9303.0</td>\n",
              "      <td>8812.0</td>\n",
              "      <td>YA</td>\n",
              "      <td>3</td>\n",
              "      <td>2022</td>\n",
              "      <td>REGULER</td>\n",
              "      <td>TIDAK ADA</td>\n",
              "      <td>TIDAK ADA</td>\n",
              "      <td>TIDAK</td>\n",
              "      <td>TIDAK ADA</td>\n",
              "      <td>TIDAK ADA</td>\n",
              "      <td>TIDAK ADA</td>\n",
              "    </tr>\n",
              "    <tr>\n",
              "      <th>81</th>\n",
              "      <td>6211.0</td>\n",
              "      <td>8901.0</td>\n",
              "      <td>9003.0</td>\n",
              "      <td>9303.0</td>\n",
              "      <td>9007.0</td>\n",
              "      <td>8812.0</td>\n",
              "      <td>YA</td>\n",
              "      <td>3</td>\n",
              "      <td>2022</td>\n",
              "      <td>REGULER</td>\n",
              "      <td>TIDAK ADA</td>\n",
              "      <td>TIDAK ADA</td>\n",
              "      <td>TIDAK</td>\n",
              "      <td>TIDAK ADA</td>\n",
              "      <td>TIDAK ADA</td>\n",
              "      <td>TIDAK ADA</td>\n",
              "    </tr>\n",
              "    <tr>\n",
              "      <th>82</th>\n",
              "      <td>8601.0</td>\n",
              "      <td>8903.0</td>\n",
              "      <td>8703.0</td>\n",
              "      <td>8602.0</td>\n",
              "      <td>8901.0</td>\n",
              "      <td>8812.0</td>\n",
              "      <td>YA</td>\n",
              "      <td>3</td>\n",
              "      <td>2022</td>\n",
              "      <td>REGULER</td>\n",
              "      <td>TIDAK ADA</td>\n",
              "      <td>TIDAK ADA</td>\n",
              "      <td>TIDAK</td>\n",
              "      <td>TIDAK ADA</td>\n",
              "      <td>TIDAK ADA</td>\n",
              "      <td>TIDAK ADA</td>\n",
              "    </tr>\n",
              "    <tr>\n",
              "      <th>83</th>\n",
              "      <td>8703.0</td>\n",
              "      <td>8601.0</td>\n",
              "      <td>9202.0</td>\n",
              "      <td>9102.0</td>\n",
              "      <td>6204.0</td>\n",
              "      <td>8812.0</td>\n",
              "      <td>YA</td>\n",
              "      <td>3</td>\n",
              "      <td>2022</td>\n",
              "      <td>REGULER</td>\n",
              "      <td>TIDAK ADA</td>\n",
              "      <td>TIDAK ADA</td>\n",
              "      <td>TIDAK</td>\n",
              "      <td>TIDAK ADA</td>\n",
              "      <td>TIDAK ADA</td>\n",
              "      <td>TIDAK ADA</td>\n",
              "    </tr>\n",
              "    <tr>\n",
              "      <th>84</th>\n",
              "      <td>8102.0</td>\n",
              "      <td>7109.0</td>\n",
              "      <td>5903.0</td>\n",
              "      <td>7206.0</td>\n",
              "      <td>8903.0</td>\n",
              "      <td>8812.0</td>\n",
              "      <td>TIDAK</td>\n",
              "      <td>0</td>\n",
              "      <td>2022</td>\n",
              "      <td>REGULER</td>\n",
              "      <td>TIDAK ADA</td>\n",
              "      <td>TIDAK ADA</td>\n",
              "      <td>TIDAK</td>\n",
              "      <td>TIDAK ADA</td>\n",
              "      <td>TIDAK ADA</td>\n",
              "      <td>TIDAK ADA</td>\n",
              "    </tr>\n",
              "  </tbody>\n",
              "</table>\n",
              "<p>85 rows × 16 columns</p>\n",
              "</div>\n",
              "      <button class=\"colab-df-convert\" onclick=\"convertToInteractive('df-6a40f190-2f03-49d2-9392-977652b2a5b8')\"\n",
              "              title=\"Convert this dataframe to an interactive table.\"\n",
              "              style=\"display:none;\">\n",
              "        \n",
              "  <svg xmlns=\"http://www.w3.org/2000/svg\" height=\"24px\"viewBox=\"0 0 24 24\"\n",
              "       width=\"24px\">\n",
              "    <path d=\"M0 0h24v24H0V0z\" fill=\"none\"/>\n",
              "    <path d=\"M18.56 5.44l.94 2.06.94-2.06 2.06-.94-2.06-.94-.94-2.06-.94 2.06-2.06.94zm-11 1L8.5 8.5l.94-2.06 2.06-.94-2.06-.94L8.5 2.5l-.94 2.06-2.06.94zm10 10l.94 2.06.94-2.06 2.06-.94-2.06-.94-.94-2.06-.94 2.06-2.06.94z\"/><path d=\"M17.41 7.96l-1.37-1.37c-.4-.4-.92-.59-1.43-.59-.52 0-1.04.2-1.43.59L10.3 9.45l-7.72 7.72c-.78.78-.78 2.05 0 2.83L4 21.41c.39.39.9.59 1.41.59.51 0 1.02-.2 1.41-.59l7.78-7.78 2.81-2.81c.8-.78.8-2.07 0-2.86zM5.41 20L4 18.59l7.72-7.72 1.47 1.35L5.41 20z\"/>\n",
              "  </svg>\n",
              "      </button>\n",
              "      \n",
              "  <style>\n",
              "    .colab-df-container {\n",
              "      display:flex;\n",
              "      flex-wrap:wrap;\n",
              "      gap: 12px;\n",
              "    }\n",
              "\n",
              "    .colab-df-convert {\n",
              "      background-color: #E8F0FE;\n",
              "      border: none;\n",
              "      border-radius: 50%;\n",
              "      cursor: pointer;\n",
              "      display: none;\n",
              "      fill: #1967D2;\n",
              "      height: 32px;\n",
              "      padding: 0 0 0 0;\n",
              "      width: 32px;\n",
              "    }\n",
              "\n",
              "    .colab-df-convert:hover {\n",
              "      background-color: #E2EBFA;\n",
              "      box-shadow: 0px 1px 2px rgba(60, 64, 67, 0.3), 0px 1px 3px 1px rgba(60, 64, 67, 0.15);\n",
              "      fill: #174EA6;\n",
              "    }\n",
              "\n",
              "    [theme=dark] .colab-df-convert {\n",
              "      background-color: #3B4455;\n",
              "      fill: #D2E3FC;\n",
              "    }\n",
              "\n",
              "    [theme=dark] .colab-df-convert:hover {\n",
              "      background-color: #434B5C;\n",
              "      box-shadow: 0px 1px 3px 1px rgba(0, 0, 0, 0.15);\n",
              "      filter: drop-shadow(0px 1px 2px rgba(0, 0, 0, 0.3));\n",
              "      fill: #FFFFFF;\n",
              "    }\n",
              "  </style>\n",
              "\n",
              "      <script>\n",
              "        const buttonEl =\n",
              "          document.querySelector('#df-6a40f190-2f03-49d2-9392-977652b2a5b8 button.colab-df-convert');\n",
              "        buttonEl.style.display =\n",
              "          google.colab.kernel.accessAllowed ? 'block' : 'none';\n",
              "\n",
              "        async function convertToInteractive(key) {\n",
              "          const element = document.querySelector('#df-6a40f190-2f03-49d2-9392-977652b2a5b8');\n",
              "          const dataTable =\n",
              "            await google.colab.kernel.invokeFunction('convertToInteractive',\n",
              "                                                     [key], {});\n",
              "          if (!dataTable) return;\n",
              "\n",
              "          const docLinkHtml = 'Like what you see? Visit the ' +\n",
              "            '<a target=\"_blank\" href=https://colab.research.google.com/notebooks/data_table.ipynb>data table notebook</a>'\n",
              "            + ' to learn more about interactive tables.';\n",
              "          element.innerHTML = '';\n",
              "          dataTable['output_type'] = 'display_data';\n",
              "          await google.colab.output.renderOutput(dataTable, element);\n",
              "          const docLink = document.createElement('div');\n",
              "          docLink.innerHTML = docLinkHtml;\n",
              "          element.appendChild(docLink);\n",
              "        }\n",
              "      </script>\n",
              "    </div>\n",
              "  </div>\n",
              "  "
            ]
          },
          "metadata": {},
          "execution_count": 5
        }
      ]
    },
    {
      "cell_type": "markdown",
      "source": [
        "### Soal 1"
      ],
      "metadata": {
        "id": "E4NqGalyp7pB"
      }
    },
    {
      "cell_type": "code",
      "source": [
        "import matplotlib.pyplot as plt \n",
        "import seaborn as sns"
      ],
      "metadata": {
        "id": "gmTd0ePspdGE"
      },
      "execution_count": null,
      "outputs": []
    },
    {
      "cell_type": "code",
      "source": [
        "fig = plt.figure()\n",
        "ax = fig.add_axes([0,0,1,1])\n",
        "ax.axis('equal')\n",
        "\n",
        "tahun2019 = data[data['tahun'] == 2019].sum().jml_vltr_terlibat\n",
        "tahun2020 = data[data['tahun'] == 2020].sum().jml_vltr_terlibat\n",
        "tahun2021 = data[data['tahun'] == 2021].sum().jml_vltr_terlibat\n",
        "tahun2022 = data[data['tahun'] == 2022].sum().jml_vltr_terlibat\n",
        "\n",
        "tahun = [tahun2019, tahun2020, tahun2021, tahun2022]\n",
        "label = ['2019', '2020', '2021', '2022']\n",
        "ax.pie(tahun, labels=label, autopct='%1.f%%', startangle=90)\n",
        "plt.title('Jumlah Volunteer Terlibat')\n",
        "plt.show()"
      ],
      "metadata": {
        "colab": {
          "base_uri": "https://localhost:8080/",
          "height": 335
        },
        "id": "gv7YAK_5wBJa",
        "outputId": "8f9e8007-a896-4bd4-92f0-aa2ac9677f9e"
      },
      "execution_count": null,
      "outputs": [
        {
          "output_type": "display_data",
          "data": {
            "text/plain": [
              "<Figure size 432x288 with 1 Axes>"
            ],
            "image/png": "[encoded data removed]"
          },
          "metadata": {}
        }
      ]
    },
    {
      "cell_type": "code",
      "source": [
        "sns.barplot(x='tahun', y='jml_vltr_terlibat', data=data.groupby(data['tahun']).sum().jml_vltr_terlibat.reset_index())\n",
        "plt.xlabel('Tahun', size=14)\n",
        "plt.ylabel('Jumlah Volunteer yang Terlibat', size=14)\n",
        "plt.xticks(size=12)\n",
        "plt.yticks(size=12)\n",
        "plt.show()"
      ],
      "metadata": {
        "colab": {
          "base_uri": "https://localhost:8080/",
          "height": 286
        },
        "id": "8p6bAhyPsLWz",
        "outputId": "0064eefb-1b3e-4752-ac78-ad89e2961d3a"
      },
      "execution_count": null,
      "outputs": [
        {
          "output_type": "display_data",
          "data": {
            "text/plain": [
              "<Figure size 432x288 with 1 Axes>"
            ],
            "image/png": "[encoded data removed]"
          },
          "metadata": {
            "needs_background": "light"
          }
        }
      ]
    },
    {
      "cell_type": "code",
      "source": [
        "# sns.pairplot(data=data.groupby(data['tahun']).sum().jml_vltr_terlibat.reset_index(), x_vars=['tahun'], y_vars='jml_vltr_terlibat', aspect=1, kind='scatter')\n",
        "plt.scatter(data['tahun'], data['jml_vltr_terlibat'])\n",
        "plt.xlabel('Tahun', size=14)\n",
        "plt.ylabel('Jumlah Volunteer yang Terlibat', size=14)\n",
        "plt.show()"
      ],
      "metadata": {
        "colab": {
          "base_uri": "https://localhost:8080/",
          "height": 283
        },
        "id": "bGaUQgt1vdxn",
        "outputId": "eb16ba14-6f5a-412d-9447-2284f473a777"
      },
      "execution_count": null,
      "outputs": [
        {
          "output_type": "display_data",
          "data": {
            "text/plain": [
              "<Figure size 432x288 with 1 Axes>"
            ],
            "image/png": "[encoded data removed]"
          },
          "metadata": {
            "needs_background": "light"
          }
        }
      ]
    },
    {
      "cell_type": "code",
      "source": [
        "sns.lineplot(x='tahun', y='jml_vltr_terlibat', data=data.groupby(data['tahun']).sum().jml_vltr_terlibat.reset_index())\n",
        "plt.xlabel('Tahun', size=14)\n",
        "plt.ylabel('Jumlah Volunteer yang Terlibat', size=14)\n",
        "plt.grid(True)"
      ],
      "metadata": {
        "colab": {
          "base_uri": "https://localhost:8080/",
          "height": 283
        },
        "id": "5G6PT6OySH4Q",
        "outputId": "080b023e-e897-44e6-8f14-bba2241128a2"
      },
      "execution_count": null,
      "outputs": [
        {
          "output_type": "display_data",
          "data": {
            "text/plain": [
              "<Figure size 432x288 with 1 Axes>"
            ],
            "image/png": "[encoded data removed]"
          },
          "metadata": {
            "needs_background": "light"
          }
        }
      ]
    },
    {
      "cell_type": "code",
      "source": [
        "pip install squarify"
      ],
      "metadata": {
        "colab": {
          "base_uri": "https://localhost:8080/"
        },
        "id": "zvA6Do7Y9iS7",
        "outputId": "f4489ea7-7be4-4e7f-8a65-01f10e6619fb"
      },
      "execution_count": null,
      "outputs": [
        {
          "output_type": "stream",
          "name": "stdout",
          "text": [
            "Looking in indexes: https://pypi.org/simple, https://us-python.pkg.dev/colab-wheels/public/simple/\n",
            "Collecting squarify\n",
            "  Downloading squarify-0.4.3-py3-none-any.whl (4.3 kB)\n",
            "Installing collected packages: squarify\n",
            "Successfully installed squarify-0.4.3\n"
          ]
        }
      ]
    },
    {
      "cell_type": "code",
      "source": [
        "import squarify\n",
        "\n",
        "plt.figure(figsize=(10,5))\n",
        "\n",
        "tahun2019 = data[data['tahun'] == 2019].sum().jml_vltr_terlibat\n",
        "tahun2020 = data[data['tahun'] == 2020].sum().jml_vltr_terlibat\n",
        "tahun2021 = data[data['tahun'] == 2021].sum().jml_vltr_terlibat\n",
        "tahun2022 = data[data['tahun'] == 2022].sum().jml_vltr_terlibat\n",
        "\n",
        "tahun = [tahun2020, tahun2021, tahun2022]\n",
        "label = ['2020', '2021', '2022']\n",
        "squarify.plot(sizes = tahun,\n",
        "              label = label,              \n",
        "              alpha=.8)\n",
        "plt.axis('off')\n",
        "plt.show()"
      ],
      "metadata": {
        "colab": {
          "base_uri": "https://localhost:8080/",
          "height": 303
        },
        "id": "iBRDKEKy3TiT",
        "outputId": "85cea0c0-e810-4436-b61b-a5fe9bcbf3da"
      },
      "execution_count": null,
      "outputs": [
        {
          "output_type": "display_data",
          "data": {
            "text/plain": [
              "<Figure size 720x360 with 1 Axes>"
            ],
            "image/png": "[encoded data removed]"
          },
          "metadata": {
            "needs_background": "light"
          }
        }
      ]
    },
    {
      "cell_type": "markdown",
      "source": [
        "### Soal 2"
      ],
      "metadata": {
        "id": "WN16ON9TMM1o"
      }
    },
    {
      "cell_type": "code",
      "source": [
        "from sklearn.preprocessing import LabelEncoder\n",
        "encode = LabelEncoder()\n",
        "for col in data.columns:\n",
        "  if data[col].dtype == 'object':\n",
        "    data[col] = encode.fit_transform(data[col])\n",
        "\n",
        "X = data.drop(['tahun'], axis=1).values\n",
        "y = data['jml_vltr_terlibat'].values"
      ],
      "metadata": {
        "id": "Z5UwUTWQSNm7"
      },
      "execution_count": null,
      "outputs": []
    },
    {
      "cell_type": "code",
      "source": [
        "from sklearn.model_selection import train_test_split\n",
        "\n",
        "X_train, X_test, y_train, y_test = train_test_split(X, y, test_size=0.2, random_state=1)"
      ],
      "metadata": {
        "id": "dRWnYjjIUqp2"
      },
      "execution_count": null,
      "outputs": []
    },
    {
      "cell_type": "markdown",
      "source": [
        "### Soal 3"
      ],
      "metadata": {
        "id": "i10PkSS5GqDi"
      }
    },
    {
      "cell_type": "code",
      "source": [
        "X = data.iloc[:, 1:]\n",
        "y = data['jml_vltr_terlibat']\n",
        "X"
      ],
      "metadata": {
        "colab": {
          "base_uri": "https://localhost:8080/",
          "height": 488
        },
        "id": "nM519_9vGrkU",
        "outputId": "82784297-a406-4aad-b6a2-8de5fbd28dee"
      },
      "execution_count": null,
      "outputs": [
        {
          "output_type": "execute_result",
          "data": {
            "text/plain": [
              "    id_anggota1  id_anggota2  id_anggota3  id_anggota4  id_anggota5  \\\n",
              "0        7214.0       6211.0       8602.0       7801.0       8812.0   \n",
              "1        7109.0       8402.0       7903.0       9202.0       8812.0   \n",
              "2        8201.0       8701.0       9101.0       9003.0       8812.0   \n",
              "3        7702.0       8602.0       8903.0       8903.0       8812.0   \n",
              "4        8305.0       5911.0       5903.0       8402.0       8812.0   \n",
              "..          ...          ...          ...          ...          ...   \n",
              "80       8804.0       9102.0       8005.0       9303.0       8812.0   \n",
              "81       8901.0       9003.0       9303.0       9007.0       8812.0   \n",
              "82       8903.0       8703.0       8602.0       8901.0       8812.0   \n",
              "83       8601.0       9202.0       9102.0       6204.0       8812.0   \n",
              "84       7109.0       5903.0       7206.0       8903.0       8812.0   \n",
              "\n",
              "    keterlibatan_vltr  jml_vltr_terlibat  tahun  skema  luaran_hki  \\\n",
              "0                   0                  0   2019      1           1   \n",
              "1                   0                  0   2019      1           1   \n",
              "2                   0                  0   2019      1           1   \n",
              "3                   0                  0   2019      1           1   \n",
              "4                   0                  0   2019      1           1   \n",
              "..                ...                ...    ...    ...         ...   \n",
              "80                  1                  3   2022      1           1   \n",
              "81                  1                  3   2022      1           1   \n",
              "82                  1                  3   2022      1           1   \n",
              "83                  1                  3   2022      1           1   \n",
              "84                  0                  0   2022      1           1   \n",
              "\n",
              "    jenis_luaran_hki  potensi_hki  luaran_lain  jenis_luaran_lain  \\\n",
              "0                  1            2            0                  3   \n",
              "1                  1            2            0                  3   \n",
              "2                  1            2            0                  3   \n",
              "3                  1            2            0                  3   \n",
              "4                  1            2            0                  3   \n",
              "..               ...          ...          ...                ...   \n",
              "80                 1            2            0                  3   \n",
              "81                 1            2            0                  3   \n",
              "82                 1            2            0                  3   \n",
              "83                 1            2            0                  3   \n",
              "84                 1            2            0                  3   \n",
              "\n",
              "    status_luaran_lain  \n",
              "0                    1  \n",
              "1                    1  \n",
              "2                    1  \n",
              "3                    1  \n",
              "4                    1  \n",
              "..                 ...  \n",
              "80                   1  \n",
              "81                   1  \n",
              "82                   1  \n",
              "83                   1  \n",
              "84                   1  \n",
              "\n",
              "[85 rows x 15 columns]"
            ],
            "text/html": [
              "\n",
              "  <div id=\"df-54e7c2e1-38e7-4483-be01-24a59bbea1c5\">\n",
              "    <div class=\"colab-df-container\">\n",
              "      <div>\n",
              "<style scoped>\n",
              "    .dataframe tbody tr th:only-of-type {\n",
              "        vertical-align: middle;\n",
              "    }\n",
              "\n",
              "    .dataframe tbody tr th {\n",
              "        vertical-align: top;\n",
              "    }\n",
              "\n",
              "    .dataframe thead th {\n",
              "        text-align: right;\n",
              "    }\n",
              "</style>\n",
              "<table border=\"1\" class=\"dataframe\">\n",
              "  <thead>\n",
              "    <tr style=\"text-align: right;\">\n",
              "      <th></th>\n",
              "      <th>id_anggota1</th>\n",
              "      <th>id_anggota2</th>\n",
              "      <th>id_anggota3</th>\n",
              "      <th>id_anggota4</th>\n",
              "      <th>id_anggota5</th>\n",
              "      <th>keterlibatan_vltr</th>\n",
              "      <th>jml_vltr_terlibat</th>\n",
              "      <th>tahun</th>\n",
              "      <th>skema</th>\n",
              "      <th>luaran_hki</th>\n",
              "      <th>jenis_luaran_hki</th>\n",
              "      <th>potensi_hki</th>\n",
              "      <th>luaran_lain</th>\n",
              "      <th>jenis_luaran_lain</th>\n",
              "      <th>status_luaran_lain</th>\n",
              "    </tr>\n",
              "  </thead>\n",
              "  <tbody>\n",
              "    <tr>\n",
              "      <th>0</th>\n",
              "      <td>7214.0</td>\n",
              "      <td>6211.0</td>\n",
              "      <td>8602.0</td>\n",
              "      <td>7801.0</td>\n",
              "      <td>8812.0</td>\n",
              "      <td>0</td>\n",
              "      <td>0</td>\n",
              "      <td>2019</td>\n",
              "      <td>1</td>\n",
              "      <td>1</td>\n",
              "      <td>1</td>\n",
              "      <td>2</td>\n",
              "      <td>0</td>\n",
              "      <td>3</td>\n",
              "      <td>1</td>\n",
              "    </tr>\n",
              "    <tr>\n",
              "      <th>1</th>\n",
              "      <td>7109.0</td>\n",
              "      <td>8402.0</td>\n",
              "      <td>7903.0</td>\n",
              "      <td>9202.0</td>\n",
              "      <td>8812.0</td>\n",
              "      <td>0</td>\n",
              "      <td>0</td>\n",
              "      <td>2019</td>\n",
              "      <td>1</td>\n",
              "      <td>1</td>\n",
              "      <td>1</td>\n",
              "      <td>2</td>\n",
              "      <td>0</td>\n",
              "      <td>3</td>\n",
              "      <td>1</td>\n",
              "    </tr>\n",
              "    <tr>\n",
              "      <th>2</th>\n",
              "      <td>8201.0</td>\n",
              "      <td>8701.0</td>\n",
              "      <td>9101.0</td>\n",
              "      <td>9003.0</td>\n",
              "      <td>8812.0</td>\n",
              "      <td>0</td>\n",
              "      <td>0</td>\n",
              "      <td>2019</td>\n",
              "      <td>1</td>\n",
              "      <td>1</td>\n",
              "      <td>1</td>\n",
              "      <td>2</td>\n",
              "      <td>0</td>\n",
              "      <td>3</td>\n",
              "      <td>1</td>\n",
              "    </tr>\n",
              "    <tr>\n",
              "      <th>3</th>\n",
              "      <td>7702.0</td>\n",
              "      <td>8602.0</td>\n",
              "      <td>8903.0</td>\n",
              "      <td>8903.0</td>\n",
              "      <td>8812.0</td>\n",
              "      <td>0</td>\n",
              "      <td>0</td>\n",
              "      <td>2019</td>\n",
              "      <td>1</td>\n",
              "      <td>1</td>\n",
              "      <td>1</td>\n",
              "      <td>2</td>\n",
              "      <td>0</td>\n",
              "      <td>3</td>\n",
              "      <td>1</td>\n",
              "    </tr>\n",
              "    <tr>\n",
              "      <th>4</th>\n",
              "      <td>8305.0</td>\n",
              "      <td>5911.0</td>\n",
              "      <td>5903.0</td>\n",
              "      <td>8402.0</td>\n",
              "      <td>8812.0</td>\n",
              "      <td>0</td>\n",
              "      <td>0</td>\n",
              "      <td>2019</td>\n",
              "      <td>1</td>\n",
              "      <td>1</td>\n",
              "      <td>1</td>\n",
              "      <td>2</td>\n",
              "      <td>0</td>\n",
              "      <td>3</td>\n",
              "      <td>1</td>\n",
              "    </tr>\n",
              "    <tr>\n",
              "      <th>...</th>\n",
              "      <td>...</td>\n",
              "      <td>...</td>\n",
              "      <td>...</td>\n",
              "      <td>...</td>\n",
              "      <td>...</td>\n",
              "      <td>...</td>\n",
              "      <td>...</td>\n",
              "      <td>...</td>\n",
              "      <td>...</td>\n",
              "      <td>...</td>\n",
              "      <td>...</td>\n",
              "      <td>...</td>\n",
              "      <td>...</td>\n",
              "      <td>...</td>\n",
              "      <td>...</td>\n",
              "    </tr>\n",
              "    <tr>\n",
              "      <th>80</th>\n",
              "      <td>8804.0</td>\n",
              "      <td>9102.0</td>\n",
              "      <td>8005.0</td>\n",
              "      <td>9303.0</td>\n",
              "      <td>8812.0</td>\n",
              "      <td>1</td>\n",
              "      <td>3</td>\n",
              "      <td>2022</td>\n",
              "      <td>1</td>\n",
              "      <td>1</td>\n",
              "      <td>1</td>\n",
              "      <td>2</td>\n",
              "      <td>0</td>\n",
              "      <td>3</td>\n",
              "      <td>1</td>\n",
              "    </tr>\n",
              "    <tr>\n",
              "      <th>81</th>\n",
              "      <td>8901.0</td>\n",
              "      <td>9003.0</td>\n",
              "      <td>9303.0</td>\n",
              "      <td>9007.0</td>\n",
              "      <td>8812.0</td>\n",
              "      <td>1</td>\n",
              "      <td>3</td>\n",
              "      <td>2022</td>\n",
              "      <td>1</td>\n",
              "      <td>1</td>\n",
              "      <td>1</td>\n",
              "      <td>2</td>\n",
              "      <td>0</td>\n",
              "      <td>3</td>\n",
              "      <td>1</td>\n",
              "    </tr>\n",
              "    <tr>\n",
              "      <th>82</th>\n",
              "      <td>8903.0</td>\n",
              "      <td>8703.0</td>\n",
              "      <td>8602.0</td>\n",
              "      <td>8901.0</td>\n",
              "      <td>8812.0</td>\n",
              "      <td>1</td>\n",
              "      <td>3</td>\n",
              "      <td>2022</td>\n",
              "      <td>1</td>\n",
              "      <td>1</td>\n",
              "      <td>1</td>\n",
              "      <td>2</td>\n",
              "      <td>0</td>\n",
              "      <td>3</td>\n",
              "      <td>1</td>\n",
              "    </tr>\n",
              "    <tr>\n",
              "      <th>83</th>\n",
              "      <td>8601.0</td>\n",
              "      <td>9202.0</td>\n",
              "      <td>9102.0</td>\n",
              "      <td>6204.0</td>\n",
              "      <td>8812.0</td>\n",
              "      <td>1</td>\n",
              "      <td>3</td>\n",
              "      <td>2022</td>\n",
              "      <td>1</td>\n",
              "      <td>1</td>\n",
              "      <td>1</td>\n",
              "      <td>2</td>\n",
              "      <td>0</td>\n",
              "      <td>3</td>\n",
              "      <td>1</td>\n",
              "    </tr>\n",
              "    <tr>\n",
              "      <th>84</th>\n",
              "      <td>7109.0</td>\n",
              "      <td>5903.0</td>\n",
              "      <td>7206.0</td>\n",
              "      <td>8903.0</td>\n",
              "      <td>8812.0</td>\n",
              "      <td>0</td>\n",
              "      <td>0</td>\n",
              "      <td>2022</td>\n",
              "      <td>1</td>\n",
              "      <td>1</td>\n",
              "      <td>1</td>\n",
              "      <td>2</td>\n",
              "      <td>0</td>\n",
              "      <td>3</td>\n",
              "      <td>1</td>\n",
              "    </tr>\n",
              "  </tbody>\n",
              "</table>\n",
              "<p>85 rows × 15 columns</p>\n",
              "</div>\n",
              "      <button class=\"colab-df-convert\" onclick=\"convertToInteractive('df-54e7c2e1-38e7-4483-be01-24a59bbea1c5')\"\n",
              "              title=\"Convert this dataframe to an interactive table.\"\n",
              "              style=\"display:none;\">\n",
              "        \n",
              "  <svg xmlns=\"http://www.w3.org/2000/svg\" height=\"24px\"viewBox=\"0 0 24 24\"\n",
              "       width=\"24px\">\n",
              "    <path d=\"M0 0h24v24H0V0z\" fill=\"none\"/>\n",
              "    <path d=\"M18.56 5.44l.94 2.06.94-2.06 2.06-.94-2.06-.94-.94-2.06-.94 2.06-2.06.94zm-11 1L8.5 8.5l.94-2.06 2.06-.94-2.06-.94L8.5 2.5l-.94 2.06-2.06.94zm10 10l.94 2.06.94-2.06 2.06-.94-2.06-.94-.94-2.06-.94 2.06-2.06.94z\"/><path d=\"M17.41 7.96l-1.37-1.37c-.4-.4-.92-.59-1.43-.59-.52 0-1.04.2-1.43.59L10.3 9.45l-7.72 7.72c-.78.78-.78 2.05 0 2.83L4 21.41c.39.39.9.59 1.41.59.51 0 1.02-.2 1.41-.59l7.78-7.78 2.81-2.81c.8-.78.8-2.07 0-2.86zM5.41 20L4 18.59l7.72-7.72 1.47 1.35L5.41 20z\"/>\n",
              "  </svg>\n",
              "      </button>\n",
              "      \n",
              "  <style>\n",
              "    .colab-df-container {\n",
              "      display:flex;\n",
              "      flex-wrap:wrap;\n",
              "      gap: 12px;\n",
              "    }\n",
              "\n",
              "    .colab-df-convert {\n",
              "      background-color: #E8F0FE;\n",
              "      border: none;\n",
              "      border-radius: 50%;\n",
              "      cursor: pointer;\n",
              "      display: none;\n",
              "      fill: #1967D2;\n",
              "      height: 32px;\n",
              "      padding: 0 0 0 0;\n",
              "      width: 32px;\n",
              "    }\n",
              "\n",
              "    .colab-df-convert:hover {\n",
              "      background-color: #E2EBFA;\n",
              "      box-shadow: 0px 1px 2px rgba(60, 64, 67, 0.3), 0px 1px 3px 1px rgba(60, 64, 67, 0.15);\n",
              "      fill: #174EA6;\n",
              "    }\n",
              "\n",
              "    [theme=dark] .colab-df-convert {\n",
              "      background-color: #3B4455;\n",
              "      fill: #D2E3FC;\n",
              "    }\n",
              "\n",
              "    [theme=dark] .colab-df-convert:hover {\n",
              "      background-color: #434B5C;\n",
              "      box-shadow: 0px 1px 3px 1px rgba(0, 0, 0, 0.15);\n",
              "      filter: drop-shadow(0px 1px 2px rgba(0, 0, 0, 0.3));\n",
              "      fill: #FFFFFF;\n",
              "    }\n",
              "  </style>\n",
              "\n",
              "      <script>\n",
              "        const buttonEl =\n",
              "          document.querySelector('#df-54e7c2e1-38e7-4483-be01-24a59bbea1c5 button.colab-df-convert');\n",
              "        buttonEl.style.display =\n",
              "          google.colab.kernel.accessAllowed ? 'block' : 'none';\n",
              "\n",
              "        async function convertToInteractive(key) {\n",
              "          const element = document.querySelector('#df-54e7c2e1-38e7-4483-be01-24a59bbea1c5');\n",
              "          const dataTable =\n",
              "            await google.colab.kernel.invokeFunction('convertToInteractive',\n",
              "                                                     [key], {});\n",
              "          if (!dataTable) return;\n",
              "\n",
              "          const docLinkHtml = 'Like what you see? Visit the ' +\n",
              "            '<a target=\"_blank\" href=https://colab.research.google.com/notebooks/data_table.ipynb>data table notebook</a>'\n",
              "            + ' to learn more about interactive tables.';\n",
              "          element.innerHTML = '';\n",
              "          dataTable['output_type'] = 'display_data';\n",
              "          await google.colab.output.renderOutput(dataTable, element);\n",
              "          const docLink = document.createElement('div');\n",
              "          docLink.innerHTML = docLinkHtml;\n",
              "          element.appendChild(docLink);\n",
              "        }\n",
              "      </script>\n",
              "    </div>\n",
              "  </div>\n",
              "  "
            ]
          },
          "metadata": {},
          "execution_count": 67
        }
      ]
    },
    {
      "cell_type": "markdown",
      "source": [
        "### Soal 4"
      ],
      "metadata": {
        "id": "iv18oqNWJ_gm"
      }
    },
    {
      "cell_type": "code",
      "source": [
        "from sklearn.tree import DecisionTreeClassifier\n",
        "from sklearn.ensemble import RandomForestClassifier\n",
        "from sklearn.metrics import accuracy_score"
      ],
      "metadata": {
        "id": "5-wmy1Z9OT8b"
      },
      "execution_count": null,
      "outputs": []
    },
    {
      "cell_type": "code",
      "source": [
        "#Traning Decision Tree\n",
        "dt = DecisionTreeClassifier()\n",
        "\n",
        "dt.fit(X_train, y_train)\n",
        "\n",
        "y_pred_dt = dt.predict(X_test)\n",
        "\n",
        "acc_dt = accuracy_score(y_test, y_pred_dt)\n",
        "print(\"Test set accuracy: {:.2f}\".format(acc_dt))\n",
        "print(f\"Test set accuracy: {acc_dt}\")"
      ],
      "metadata": {
        "colab": {
          "base_uri": "https://localhost:8080/"
        },
        "id": "202h837kN-IR",
        "outputId": "7a972fd2-a5b0-4bec-9288-9fbeb161d449"
      },
      "execution_count": null,
      "outputs": [
        {
          "output_type": "stream",
          "name": "stdout",
          "text": [
            "Test set accuracy: 0.94\n",
            "Test set accuracy: 0.9411764705882353\n"
          ]
        }
      ]
    },
    {
      "cell_type": "code",
      "source": [
        "#Training RandomForest\n",
        "rf = RandomForestClassifier(n_estimators=10, random_state=1)\n",
        "\n",
        "rf.fit(X_train, y_train)\n",
        "\n",
        "y_pred_rf = rf.predict(X_test)\n",
        "\n",
        "acc_rf = accuracy_score(y_test, y_pred_rf)\n",
        "print(\"Test set accuracy: {:.2f}\".format(acc_rf))\n",
        "print(f\"Test set accuracy: {acc_rf}\")"
      ],
      "metadata": {
        "colab": {
          "base_uri": "https://localhost:8080/"
        },
        "id": "m0ambhEjOJ4-",
        "outputId": "b30ef697-7c7e-4c36-ac9d-467ee11e7e13"
      },
      "execution_count": null,
      "outputs": [
        {
          "output_type": "stream",
          "name": "stdout",
          "text": [
            "Test set accuracy: 0.82\n",
            "Test set accuracy: 0.8235294117647058\n"
          ]
        }
      ]
    },
    {
      "cell_type": "markdown",
      "source": [
        "### Soal 5"
      ],
      "metadata": {
        "id": "sAigFuXcPshZ"
      }
    },
    {
      "cell_type": "code",
      "source": [
        "x1 = data.drop(columns=['tahun'], axis=1).values\n",
        "y1 = data['luaran_hki'].values\n",
        "\n",
        "# split data test training\n",
        "x1_train, x1_test, y1_train, y1_test = train_test_split(x1, y1, test_size=0.2, random_state=1)"
      ],
      "metadata": {
        "id": "nIfh0u0Kfb2C"
      },
      "execution_count": null,
      "outputs": []
    },
    {
      "cell_type": "code",
      "source": [
        "dt1 = DecisionTreeClassifier()\n",
        "\n",
        "dt1.fit(x1_train, y1_train)\n",
        "\n",
        "y_pred_dt1 = dt1.predict(x1_test)\n",
        "\n",
        "acc_dt1 = accuracy_score(y1_test, y_pred_dt1)\n",
        "print(\"Test set accuracy: {:.2f}\".format(acc_dt1))\n",
        "print(f\"Test set accuracy: {acc_dt1}\")"
      ],
      "metadata": {
        "colab": {
          "base_uri": "https://localhost:8080/"
        },
        "id": "5yA_uzujfxYF",
        "outputId": "bca57c11-0c54-428c-b944-0709a8cb5314"
      },
      "execution_count": null,
      "outputs": [
        {
          "output_type": "stream",
          "name": "stdout",
          "text": [
            "Test set accuracy: 1.00\n",
            "Test set accuracy: 1.0\n"
          ]
        }
      ]
    },
    {
      "cell_type": "markdown",
      "source": [
        "### Soal 6"
      ],
      "metadata": {
        "id": "_kCxM9x5XnDg"
      }
    },
    {
      "cell_type": "code",
      "source": [
        "from sklearn import metrics\n",
        "import itertools\n",
        "from sklearn import svm\n",
        "from sklearn.metrics import roc_curve, auc"
      ],
      "metadata": {
        "id": "IBxz6efLZ4uT"
      },
      "execution_count": null,
      "outputs": []
    },
    {
      "cell_type": "code",
      "source": [
        "#Confusion Matrix\n",
        "conf = metrics.confusion_matrix(y_test, y_pred_dt)\n",
        "conf"
      ],
      "metadata": {
        "colab": {
          "base_uri": "https://localhost:8080/"
        },
        "id": "nkCslKl7-av3",
        "outputId": "4c3291a1-79ca-469a-c463-7e453c4d9557"
      },
      "execution_count": null,
      "outputs": [
        {
          "output_type": "execute_result",
          "data": {
            "text/plain": [
              "array([[8, 0, 0, 0],\n",
              "       [0, 0, 1, 0],\n",
              "       [0, 1, 1, 0],\n",
              "       [0, 0, 0, 6]])"
            ]
          },
          "metadata": {},
          "execution_count": 21
        }
      ]
    },
    {
      "cell_type": "code",
      "source": [
        "def get_confusion_matrix(y_true, y_pred):\n",
        "    n_classes = len(np.unique(y_true))\n",
        "    conf = np.zeros((n_classes, n_classes))\n",
        "    for actual, pred in zip(y_true, y_pred):\n",
        "        conf[int(actual)][int(pred)] += 1\n",
        "    return conf.astype('int')"
      ],
      "metadata": {
        "id": "86xN0UfRZSIH"
      },
      "execution_count": null,
      "outputs": []
    },
    {
      "cell_type": "code",
      "source": [
        "conf = get_confusion_matrix(y_test, y_pred_dt)\n",
        "conf"
      ],
      "metadata": {
        "colab": {
          "base_uri": "https://localhost:8080/"
        },
        "id": "Akv7yaVCZpOD",
        "outputId": "152b0934-9e8f-4258-a6db-e390a304fcb3"
      },
      "execution_count": null,
      "outputs": [
        {
          "output_type": "execute_result",
          "data": {
            "text/plain": [
              "array([[8, 0, 0, 0],\n",
              "       [0, 0, 1, 0],\n",
              "       [0, 1, 1, 0],\n",
              "       [0, 0, 0, 6]])"
            ]
          },
          "metadata": {},
          "execution_count": 23
        }
      ]
    },
    {
      "cell_type": "code",
      "source": [
        "classes = [0, 1]\n",
        "\n",
        "plt.imshow(conf, interpolation='nearest', cmap=plt.cm.Greens)\n",
        "plt.title(\"Confusion Matrix\")\n",
        "plt.colorbar()\n",
        "tick_marks = np.arange(len(classes))\n",
        "plt.xticks(tick_marks, classes)\n",
        "plt.yticks(tick_marks, classes)\n",
        "\n",
        "fmt = 'd'\n",
        "thresh = conf.max() / 2.\n",
        "for i, j in itertools.product(range(conf.shape[0]), range(conf.shape[1])):\n",
        "    plt.text(j, i, format(conf[i, j], fmt),\n",
        "             horizontalalignment=\"center\",\n",
        "             color=\"white\" if conf[i, j] > thresh else \"black\")\n",
        "\n",
        "plt.tight_layout()\n",
        "plt.ylabel('True label')\n",
        "plt.xlabel('Predicted label')"
      ],
      "metadata": {
        "colab": {
          "base_uri": "https://localhost:8080/",
          "height": 328
        },
        "id": "fyLUTJ0UZtry",
        "outputId": "12fd2d2a-c067-432f-c246-21d38a6346cb"
      },
      "execution_count": null,
      "outputs": [
        {
          "output_type": "execute_result",
          "data": {
            "text/plain": [
              "Text(0.5, 15.0, 'Predicted label')"
            ]
          },
          "metadata": {},
          "execution_count": 24
        },
        {
          "output_type": "display_data",
          "data": {
            "text/plain": [
              "<Figure size 432x288 with 2 Axes>"
            ],
            "image/png": "[encoded data removed]"
          },
          "metadata": {
            "needs_background": "light"
          }
        }
      ]
    },
    {
      "cell_type": "code",
      "source": [
        "# ROC Curve\n",
        "x2 = data.drop(\"tahun\",axis=1)\n",
        "y2 = data[[\"jml_vltr_terlibat\"]]\n",
        "\n",
        "from sklearn import preprocessing\n",
        "x2 = preprocessing.normalize(x2)\n",
        "y2 = preprocessing.normalize(y2)\n",
        "\n",
        "from sklearn.model_selection import train_test_split\n",
        "x2_train, x2_test, y2_train, y2_test = train_test_split(x2, y2, test_size=0.3, random_state=1)"
      ],
      "metadata": {
        "id": "zklDZGq7beVh"
      },
      "execution_count": null,
      "outputs": []
    },
    {
      "cell_type": "code",
      "source": [
        "from sklearn.linear_model import SGDClassifier \n",
        "\n",
        "model = SGDClassifier(loss='hinge', class_weight='balanced')\n",
        "model.fit(x2_train, y2_train)\n",
        "\n",
        "y_test_pred = model.decision_function(x2_test) \n",
        "\n",
        "test_fpr, test_tpr, te_thresholds = roc_curve(y2_test, y_test_pred)\n",
        "\n",
        "get_auc = auc(test_fpr, test_tpr)\n",
        "\n",
        "plt.figure(figsize=(5,5))\n",
        "plt.plot(test_fpr, test_tpr, color='red', lw=2)\n",
        "plt.plot([0, 1], [0, 1], color='navy', lw=2, linestyle='--')\n",
        "plt.xlim([0.0, 1.0])\n",
        "plt.ylim([0.0, 1.05])\n",
        "plt.xlabel('False Positive Rate')\n",
        "plt.ylabel('True Positive Rate')\n",
        "plt.title('ROC curve')\n",
        "plt.legend(loc=\"lower right\")\n",
        "plt.show()"
      ],
      "metadata": {
        "colab": {
          "base_uri": "https://localhost:8080/",
          "height": 422
        },
        "id": "R6yK_av6afJ1",
        "outputId": "b84b3c0e-f7d1-48c4-f36d-30601ec826a7"
      },
      "execution_count": null,
      "outputs": [
        {
          "output_type": "stream",
          "name": "stderr",
          "text": [
            "/usr/local/lib/python3.7/dist-packages/sklearn/utils/validation.py:993: DataConversionWarning: A column-vector y was passed when a 1d array was expected. Please change the shape of y to (n_samples, ), for example using ravel().\n",
            "  y = column_or_1d(y, warn=True)\n",
            "WARNING:matplotlib.legend:No handles with labels found to put in legend.\n"
          ]
        },
        {
          "output_type": "display_data",
          "data": {
            "text/plain": [
              "<Figure size 360x360 with 1 Axes>"
            ],
            "image/png": "[encoded data removed]"
          },
          "metadata": {
            "needs_background": "light"
          }
        }
      ]
    },
    {
      "cell_type": "markdown",
      "source": [
        "### Soal 7"
      ],
      "metadata": {
        "id": "OR2Yu5uHcuTh"
      }
    },
    {
      "cell_type": "code",
      "source": [
        "#Grid Search\n",
        "from sklearn.model_selection import RepeatedKFold\n",
        "cv = RepeatedKFold(n_splits=4 , n_repeats=3 , random_state=42)\n",
        "\n",
        "from sklearn.tree import DecisionTreeClassifier\n",
        "from sklearn.model_selection import GridSearchCV\n",
        "\n",
        "dt = DecisionTreeClassifier()\n",
        "\n",
        "params = {\n",
        "    'criterion': ['gini', 'entropy'],\n",
        "    'max_depth': list(range(5,11))\n",
        "}\n",
        "\n",
        "grid = GridSearchCV(dt, param_grid=params, cv=cv)\n",
        "\n",
        "%timeit grid.fit(X, y)\n",
        "\n",
        "score = grid.score(X,y)\n",
        "\n",
        "print(f'Hasil evaluasi: {score}')\n",
        "print(f'Konfigurasi hyperparameter: {grid.best_params_}')"
      ],
      "metadata": {
        "colab": {
          "base_uri": "https://localhost:8080/"
        },
        "id": "kjnoVip2cqlF",
        "outputId": "1f72535d-c843-4bb2-c1bc-c445c16a8d15"
      },
      "execution_count": null,
      "outputs": [
        {
          "output_type": "stream",
          "name": "stdout",
          "text": [
            "643 ms ± 17.9 ms per loop (mean ± std. dev. of 7 runs, 1 loop each)\n",
            "Hasil evaluasi: 1.0\n",
            "Konfigurasi hyperparameter: {'criterion': 'gini', 'max_depth': 7}\n"
          ]
        }
      ]
    },
    {
      "cell_type": "code",
      "source": [
        "#Random Search\n",
        "from sklearn.tree import DecisionTreeClassifier\n",
        "from sklearn.model_selection import RandomizedSearchCV\n",
        "\n",
        "DT = DecisionTreeClassifier()\n",
        "\n",
        "params = {\n",
        "    'criterion':['gini', 'entropy'],\n",
        "    'max_depth':list(range(5,11))\n",
        "}\n",
        "\n",
        "randomSCV = RandomizedSearchCV(DT,param_distributions=params,cv=cv)\n",
        "\n",
        "%timeit randomSCV.fit(X,y)\n",
        "\n",
        "score = randomSCV.score(X,y)\n",
        "\n",
        "print(f'Hasil Evaluasi: {score}')\n",
        "print(f'Konfigurasi hyperparameter: {randomSCV.best_params_}')"
      ],
      "metadata": {
        "colab": {
          "base_uri": "https://localhost:8080/"
        },
        "id": "r8UDOcq3icEd",
        "outputId": "3919a8cf-7212-41de-e55c-a74121172f3f"
      },
      "execution_count": null,
      "outputs": [
        {
          "output_type": "stream",
          "name": "stdout",
          "text": [
            "540 ms ± 11.2 ms per loop (mean ± std. dev. of 7 runs, 1 loop each)\n",
            "Hasil Evaluasi: 1.0\n",
            "Konfigurasi hyperparameter: {'max_depth': 5, 'criterion': 'gini'}\n"
          ]
        }
      ]
    },
    {
      "cell_type": "code",
      "source": [
        "#Exhausive Search\n",
        "from sklearn.svm import SVC\n",
        "\n",
        "model_svc_manual = SVC(C=100, kernel='poly', degree=3)\n",
        "\n",
        "%timeit model_svc_manual.fit(X, y)\n",
        "\n",
        "score = model_svc_manual.score(X,y)\n",
        "\n",
        "print(f'Hasil evaluasi: {score}')"
      ],
      "metadata": {
        "colab": {
          "base_uri": "https://localhost:8080/"
        },
        "id": "EDKxTIMTi_VT",
        "outputId": "8ab93a33-a825-4a2a-e8b5-7ee35887eafe"
      },
      "execution_count": null,
      "outputs": [
        {
          "output_type": "stream",
          "name": "stdout",
          "text": [
            "10.4 ms ± 2.84 ms per loop (mean ± std. dev. of 7 runs, 10 loops each)\n",
            "Hasil evaluasi: 0.5647058823529412\n"
          ]
        }
      ]
    },
    {
      "cell_type": "markdown",
      "source": [
        "### Soal 8"
      ],
      "metadata": {
        "id": "VcKdPiJWcxc4"
      }
    },
    {
      "cell_type": "code",
      "source": [
        "print(f'Accuracy score Random Forest (Soal 4): {acc_rf}')\n",
        "print(f'Accuracy score Decision Tree (Soal 4): {acc_dt}')\n",
        "print(f'Accuracy score Decision Tree (Soal 5): {acc_dt1}')\n",
        "\n",
        "fig, ax = plt.subplots(figsize=(7,5))\n",
        "sns.barplot(x=['Random Forest Soal 4', 'Decision Tree Soal 4', 'Decision Tree Soal 5'], y=[acc_rf, acc_dt, acc_dt1], ax=ax)\n",
        "plt.title('Perbandingan Akurasi', size=16)\n",
        "plt.xlabel('Model', size=14)\n",
        "plt.ylabel('Accuracy Score', size=14)\n",
        "plt.show()"
      ],
      "metadata": {
        "colab": {
          "base_uri": "https://localhost:8080/",
          "height": 408
        },
        "id": "O9l9-YCqeptu",
        "outputId": "ff6ce288-1935-4580-bbf4-9ca2d0048aa8"
      },
      "execution_count": null,
      "outputs": [
        {
          "output_type": "stream",
          "name": "stdout",
          "text": [
            "Accuracy score Random Forest (Soal 4): 0.8235294117647058\n",
            "Accuracy score Decision Tree (Soal 4): 0.9411764705882353\n",
            "Accuracy score Decision Tree (Soal 5): 1.0\n"
          ]
        },
        {
          "output_type": "display_data",
          "data": {
            "text/plain": [
              "<Figure size 504x360 with 1 Axes>"
            ],
            "image/png": "[encoded data removed]"
          },
          "metadata": {
            "needs_background": "light"
          }
        }
      ]
    }
  ]
}